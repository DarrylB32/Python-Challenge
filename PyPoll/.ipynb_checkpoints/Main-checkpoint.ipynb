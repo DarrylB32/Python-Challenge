{
 "cells": [
  {
   "cell_type": "code",
   "execution_count": 47,
   "metadata": {},
   "outputs": [],
   "source": [
    "import os\n",
    "import csv\n",
    "csvpath=os.path.join(\"Resources\", \"election_data.csv\") \n",
    "with open(csvpath) as csvfile: #open file\n",
    "    csvreader = csv.reader(csvfile, delimiter=',') \n",
    "    csvheader=next(csvreader)\n",
    "    votes_cast=0\n",
    "    most_votes=0\n",
    "    candidates_dic={}\n",
    "    candidates_list=[]\n",
    "    analysis_txt=[]\n",
    "    winner=[]\n",
    "    for i in csvreader:\n",
    "        votes_cast=votes_cast+1\n",
    "        if i[2] not in candidates_dic: \n",
    "            candidates_dic[i[2]]=1\n",
    "            candidates_list.append(i[2])\n",
    "        else:\n",
    "            candidates_dic[i[2]]+=1\n",
    "        \n",
    "    \n",
    "    analysis_txt.append(\"Election Results\")\n",
    "    analysis_txt.append(\"--------------------------\")\n",
    "    analysis_txt.append(f\"Total Votes Cast:{votes_cast}\")\n",
    "    analysis_txt.append(\"--------------------------\")\n",
    "    count=0\n",
    "    for i in candidates_list:\n",
    "            analysis_txt.append(f\"{candidates_list[count]}: {candidates_dic[candidates_list[count]]/votes_cast}     ({candidates_dic[candidates_list[count]]})\")\n",
    "            if candidates_dic[candidates_list[count]]>most_votes:\n",
    "                most_votes=candidates_dic[candidates_list[count]]\n",
    "                winner=candidates_list[count]\n",
    "            count+=1\n",
    "\n",
    "    analysis_txt.append(\"--------------------------\")\n",
    "    analysis_txt.append(f\"Winner: {winner}\")"
   ]
  },
  {
   "cell_type": "code",
   "execution_count": 48,
   "metadata": {},
   "outputs": [
    {
     "name": "stdout",
     "output_type": "stream",
     "text": [
      "Election Results\n",
      "--------------------------\n",
      "Total Votes Cast:3521001\n",
      "--------------------------\n",
      "Khan: 0.6300001050837531     (2218231)\n",
      "Correy: 0.19999994319797126     (704200)\n",
      "Li: 0.13999996023857988     (492940)\n",
      "O'Tooley: 0.02999999147969569     (105630)\n",
      "--------------------------\n",
      "Winner: Khan\n"
     ]
    }
   ],
   "source": [
    "# save the output file path\n",
    "csvpath=os.path.join(\"Analysis\", \"Analysis.txt\") \n",
    "\n",
    "# open the output file, create a header row, and then write the zipped object to the csv\n",
    "with open(csvpath, \"w\") as text:\n",
    "    \n",
    "    for i in analysis_txt:\n",
    "        text.write(i)\n",
    "        text.write(\"\\n\")\n",
    "        print(i)"
   ]
  },
  {
   "cell_type": "code",
   "execution_count": null,
   "metadata": {},
   "outputs": [],
   "source": []
  }
 ],
 "metadata": {
  "kernelspec": {
   "display_name": "Python 3",
   "language": "python",
   "name": "python3"
  },
  "language_info": {
   "codemirror_mode": {
    "name": "ipython",
    "version": 3
   },
   "file_extension": ".py",
   "mimetype": "text/x-python",
   "name": "python",
   "nbconvert_exporter": "python",
   "pygments_lexer": "ipython3",
   "version": "3.7.6"
  }
 },
 "nbformat": 4,
 "nbformat_minor": 4
}
