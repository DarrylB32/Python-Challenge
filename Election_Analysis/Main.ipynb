{
 "cells": [
  {
   "cell_type": "code",
   "execution_count": 3,
   "metadata": {},
   "outputs": [],
   "source": [
    "import os\n",
    "import csv\n",
    "\n",
    "# Opens csv file and creates variables \n",
    "csvpath=os.path.join(\"Resources\", \"election_data.csv\") \n",
    "with open(csvpath) as csvfile:\n",
    "    csvreader = csv.reader(csvfile, delimiter=',') \n",
    "    csvheader=next(csvreader)\n",
    "    votes_cast=0 #tracks number of votes cast\n",
    "    most_votes=0 #tracks who has the most votes\n",
    "    candidates_dic={} #empty dictionary to hold results\n",
    "    candidates_list=[] #list to hold candidate names\n",
    "    analysis_txt=[] #list to hold analysis text\n",
    "    winner=[] #list to hold winning condidate\n",
    "    for i in csvreader:\n",
    "        votes_cast=votes_cast+1 #adds 1 for each vote cast\n",
    "        if i[2] not in candidates_dic: \n",
    "            candidates_dic[i[2]]=1 #adds candidate to dictionary if they aren't present already and adds a vote\n",
    "            candidates_list.append(i[2]) #adds candidate to candidate_list if they aren't present already\n",
    "        else:\n",
    "            candidates_dic[i[2]]+=1 #adds vote to candidate in the dictionary\n",
    "        \n",
    "    # adds text to analysis_txt\n",
    "    analysis_txt.append(\"Election Results\")\n",
    "    analysis_txt.append(\"--------------------------\")\n",
    "    analysis_txt.append(f\"Total Votes Cast:{votes_cast}\")\n",
    "    analysis_txt.append(\"--------------------------\")\n",
    "    count=0\n",
    "\n",
    "    for i in candidates_list: #itereates through list of candidates and determines the winner\n",
    "            analysis_txt.append(f\"{candidates_list[count]}: {round(candidates_dic[candidates_list[count]]/votes_cast*100,2)}%     ({candidates_dic[candidates_list[count]]})\")\n",
    "            if candidates_dic[candidates_list[count]]>most_votes:\n",
    "                most_votes=candidates_dic[candidates_list[count]]\n",
    "                winner=candidates_list[count]\n",
    "            count+=1\n",
    "\n",
    "    analysis_txt.append(\"--------------------------\")\n",
    "    analysis_txt.append(f\"Winner: {winner}\")"
   ]
  },
  {
   "cell_type": "code",
   "execution_count": 4,
   "metadata": {
    "tags": []
   },
   "outputs": [
    {
     "name": "stdout",
     "output_type": "stream",
     "text": [
      "Election Results\n",
      "--------------------------\n",
      "Total Votes Cast:3521001\n",
      "--------------------------\n",
      "Khan: 63.0%     (2218231)\n",
      "Correy: 20.0%     (704200)\n",
      "Li: 14.0%     (492940)\n",
      "O'Tooley: 3.0%     (105630)\n",
      "--------------------------\n",
      "Winner: Khan\n"
     ]
    }
   ],
   "source": [
    "# output file path\n",
    "csvpath=os.path.join(\"Analysis\", \"Analysis.txt\") \n",
    "\n",
    "# open the output file\n",
    "with open(csvpath, \"w\") as text:\n",
    "    \n",
    "    for i in analysis_txt:\n",
    "        text.write(i) #write line from analysis_txt\n",
    "        text.write(\"\\n\") #create new line\n",
    "        print(i) #iterate through loop"
   ]
  },
  {
   "cell_type": "code",
   "execution_count": null,
   "metadata": {},
   "outputs": [],
   "source": []
  }
 ],
 "metadata": {
  "kernelspec": {
   "display_name": "Python 3",
   "language": "python",
   "name": "python3"
  },
  "language_info": {
   "codemirror_mode": {
    "name": "ipython",
    "version": 3
   },
   "file_extension": ".py",
   "mimetype": "text/x-python",
   "name": "python",
   "nbconvert_exporter": "python",
   "pygments_lexer": "ipython3",
   "version": "3.7.6"
  }
 },
 "nbformat": 4,
 "nbformat_minor": 4
}