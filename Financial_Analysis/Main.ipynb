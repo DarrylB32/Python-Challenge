{
 "cells": [
  {
   "cell_type": "markdown",
   "metadata": {},
   "source": [
    "METHOD 1"
   ]
  },
  {
   "cell_type": "code",
   "execution_count": null,
   "metadata": {},
   "outputs": [],
   "source": [
    "import os\n",
    "import csv\n",
    "csvpath=os.path.join(\"Resources\", \"budget_data.csv\") \n",
    "\n",
    "with open(csvpath) as csvfile: #open file\n",
    "    csvreader = csv.reader(csvfile, delimiter=',') \n",
    "    csvheader=next(csvreader)\n",
    "    net_profit_losses=0\n",
    "    count=0\n",
    "    tot_diff=0\n",
    "    diff=0\n",
    "    grt_inc=0\n",
    "    grt_dec=0\n",
    "    col1=[0]\n",
    "    col2=[]\n",
    "    col3=[]\n",
    "       \n",
    "    for i in csvreader:\n",
    "        col1.append(int(i[1]))\n",
    "        col2.append(int(i[1]))\n",
    "        diff=col2[count] - col1[count]\n",
    "        col3.append(diff)\n",
    "        \n",
    "        if diff>grt_inc:\n",
    "            grt_inc=diff\n",
    "            inc_date=i[0]\n",
    "            \n",
    "        if diff<grt_dec:\n",
    "            grt_dec=diff\n",
    "            dec_date=i[0]\n",
    "            \n",
    "        tot_diff=tot_diff+diff\n",
    "        net_profit_losses=net_profit_losses+int(i[1])\n",
    "        count=count+1\n",
    "        \n",
    "    tot_diff=tot_diff-int(col3[0])\n",
    "\n",
    "tot_month= f'''\n",
    "Financial Analysis\n",
    "---------------------------------------------------\n",
    "Total Months:{count}\n",
    "Total:{net_profit_losses}\n",
    "Average Change:{tot_diff/(count-1)}\n",
    "Greatest Increase:{grt_inc} happened on {inc_date}\n",
    "Greatest Decrease:{grt_dec} happened on {dec_date}'''"
   ]
  },
  {
   "cell_type": "code",
   "execution_count": null,
   "metadata": {
    "tags": []
   },
   "outputs": [],
   "source": [
    "# save the output file path\n",
    "csvpath=os.path.join(\"Analysis\", \"Analysis.txt\") \n",
    "\n",
    "# open the output file, create a header row, and then write the zipped object to the csv\n",
    "with open(csvpath, \"w\") as text:\n",
    "    text.write(tot_month)\n",
    "print(tot_month)"
   ]
  },
  {
   "cell_type": "markdown",
   "metadata": {},
   "source": [
    "METHOD 2"
   ]
  },
  {
   "cell_type": "code",
   "execution_count": null,
   "metadata": {},
   "outputs": [],
   "source": [
    "import os\n",
    "import csv\n",
    "csvpath=os.path.join(\"Resources\", \"budget_data.csv\") \n",
    "\n",
    "with open(csvpath) as csvfile: #open file\n",
    "    csvreader = csv.reader(csvfile, delimiter=',') \n",
    "    csvheader=next(csvreader)\n",
    "    net_profit_losses=0\n",
    "    count=0\n",
    "    tot_diff=0\n",
    "    diff=0\n",
    "    grt_inc=0\n",
    "    grt_dec=0\n",
    "    col1=[0]\n",
    "    col2=[]\n",
    "    col3=[]\n",
    "       \n",
    "    for i in csvreader:\n",
    "        col1.append(int(i[1]))\n",
    "        col2.append(int(i[1]))\n",
    "        diff=col2[count] - col1[count]\n",
    "        col3.append(diff)\n",
    "        \n",
    "        if diff>grt_inc:\n",
    "            grt_inc=diff\n",
    "            inc_date=i[0]\n",
    "            \n",
    "        if diff<grt_dec:\n",
    "            grt_dec=diff\n",
    "            dec_date=i[0]\n",
    "            \n",
    "        tot_diff=tot_diff+diff\n",
    "        net_profit_losses=net_profit_losses+int(i[1])\n",
    "        count=count+1\n",
    "        \n",
    "    tot_diff=tot_diff-int(col3[0])\n",
    "                      \n",
    "lines_2_print.append(f\"Total Months:{count}\")\n",
    "lines_2_print.append(f\"Total:{net_profit_losses}\")\n",
    "lines_2_print.append(f\"Average Change:{tot_diff/(count-1)}\")\n",
    "lines_2_print.append(f\"Greatest Increase:{grt_inc} happened on {inc_date}\")\n",
    "lines_2_print.append(f\"Greatest Decrease:{grt_dec} happened on {dec_date}\")\n",
    "print(lines_2_print)"
   ]
  },
  {
   "cell_type": "code",
   "execution_count": null,
   "metadata": {},
   "outputs": [],
   "source": [
    "# save the output file path\n",
    "csvpath=os.path.join(\"Analysis\", \"Analysis.txt\") \n",
    "\n",
    "# open the output file, create a header row, and then write the zipped object to the csv\n",
    "with open(csvpath, \"w\") as text:\n",
    "    \n",
    "    for i in lines_2_print:\n",
    "        text.write(i)\n",
    "        text.write(\"\\n\")\n",
    "        print(i)"
   ]
  },
  {
   "cell_type": "markdown",
   "metadata": {},
   "source": [
    "# "
   ]
  },
  {
   "cell_type": "markdown",
   "metadata": {},
   "source": [
    "## "
   ]
  }
 ],
 "metadata": {
  "kernelspec": {
   "display_name": "Python 3",
   "language": "python",
   "name": "python3"
  },
  "language_info": {
   "codemirror_mode": {
    "name": "ipython",
    "version": 3
   },
   "file_extension": ".py",
   "mimetype": "text/x-python",
   "name": "python",
   "nbconvert_exporter": "python",
   "pygments_lexer": "ipython3",
   "version": "3.7.6-final"
  }
 },
 "nbformat": 4,
 "nbformat_minor": 4
}